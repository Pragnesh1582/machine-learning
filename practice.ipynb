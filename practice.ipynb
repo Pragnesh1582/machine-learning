{
 "cells": [
  {
   "cell_type": "code",
   "execution_count": null,
   "metadata": {},
   "outputs": [],
   "source": [
    "# write code here ..."
   ]
  },
  {
   "cell_type": "code",
   "execution_count": 1,
   "metadata": {},
   "outputs": [],
   "source": [
    "from sklearn import preprocessing\n",
    "from sklearn.naive_bayes import GaussianNB"
   ]
  },
  {
   "cell_type": "code",
   "execution_count": 2,
   "metadata": {},
   "outputs": [],
   "source": [
    "def getWeather():\n",
    "    return ['Clear', 'Clear', 'Clear', 'Clear', 'Clear', 'Clear',\n",
    "            'Rainy', 'Rainy', 'Rainy', 'Rainy', 'Rainy', 'Rainy',\n",
    "            'Snowy', 'Snowy', 'Snowy', 'Snowy', 'Snowy', 'Snowy']\n",
    "\n",
    "def getTimeOfWeek():\n",
    "    return ['Workday', 'Workday', 'Workday',\n",
    "            'Weekend', 'Weekend', 'Weekend',\n",
    "            'Workday', 'Workday', 'Workday',\n",
    "            'Weekend', 'Weekend', 'Weekend',\n",
    "            'Workday', 'Workday', 'Workday',\n",
    "            'Weekend', 'Weekend', 'Weekend']\n",
    "\n",
    "def getTimeOfDay():\n",
    "    return ['Morning', 'Lunch', 'Evening',\n",
    "            'Morning', 'Lunch', 'Evening',\n",
    "            'Morning', 'Lunch', 'Evening',\n",
    "            'Morning', 'Lunch', 'Evening',\n",
    "            'Morning', 'Lunch', 'Evening',\n",
    "            'Morning', 'Lunch', 'Evening',\n",
    "            ]\n",
    "\n",
    "def getTrafficJam():\n",
    "    return ['Yes', 'No', 'Yes',\n",
    "            'No', 'No', 'No',\n",
    "            'Yes', 'Yes', 'Yes',\n",
    "            'No', 'No', 'No',\n",
    "            'Yes', 'Yes', 'Yes',\n",
    "            'Yes', 'No', 'Yes'\n",
    "            ]"
   ]
  },
  {
   "cell_type": "code",
   "execution_count": 4,
   "metadata": {},
   "outputs": [
    {
     "name": "stdout",
     "output_type": "stream",
     "text": [
      "[0 0 0 0 0 0 1 1 1 1 1 1 2 2 2 2 2 2]\n"
     ]
    }
   ],
   "source": [
    "weather = ['Clear', 'Clear', 'Clear', 'Clear', 'Clear', 'Clear',\n",
    "            'Rainy', 'Rainy', 'Rainy', 'Rainy', 'Rainy', 'Rainy',\n",
    "            'Snowy', 'Snowy', 'Snowy', 'Snowy', 'Snowy', 'Snowy']\n",
    "labelEncoder = preprocessing.LabelEncoder();\n",
    "print (labelEncoder.fit_transform(weather))\n",
    "    \n",
    "    # Prints [0 0 0 0 0 0 1 1 1 1 1 1 2 2 2 2 2 2]"
   ]
  },
  {
   "cell_type": "code",
   "execution_count": 5,
   "metadata": {},
   "outputs": [
    {
     "name": "stdout",
     "output_type": "stream",
     "text": [
      "[1 0 1 0 0 0 1 1 1 0 0 0 1 1 1 1 0 1]\n"
     ]
    }
   ],
   "source": [
    "trafficJam = ['Yes', 'No', 'Yes',\n",
    "            'No', 'No', 'No',\n",
    "            'Yes', 'Yes', 'Yes',\n",
    "            'No', 'No', 'No',\n",
    "            'Yes', 'Yes', 'Yes',\n",
    "            'Yes', 'No', 'Yes'\n",
    "            ]\n",
    "print(labelEncoder.fit_transform(trafficJam))"
   ]
  },
  {
   "cell_type": "code",
   "execution_count": 8,
   "metadata": {},
   "outputs": [
    {
     "data": {
      "text/plain": [
       "GaussianNB(priors=None, var_smoothing=1e-09)"
      ]
     },
     "execution_count": 8,
     "metadata": {},
     "output_type": "execute_result"
    }
   ],
   "source": [
    "# Get the data\n",
    "weather = getWeather()\n",
    "timeOfWeek = getTimeOfWeek()\n",
    "timeOfDay = getTimeOfDay()\n",
    "trafficJam = getTrafficJam()\n",
    "\n",
    "labelEncoder = preprocessing.LabelEncoder()\n",
    "    \n",
    "    # Encode the features and the labels\n",
    "encodedWeather = labelEncoder.fit_transform(weather)\n",
    "encodedTimeOfWeek = labelEncoder.fit_transform(timeOfWeek)\n",
    "encodedTimeOfDay = labelEncoder.fit_transform(timeOfDay)\n",
    "encodedTrafficJam = labelEncoder.fit_transform(trafficJam)\n",
    "    \n",
    "    # Build the features\n",
    "features = []\n",
    "for i in range(len(encodedWeather)):\n",
    "    features.append([encodedWeather[i], encodedTimeOfWeek[i], encodedTimeOfDay[i]])\n",
    "\n",
    "model = GaussianNB()\n",
    "    \n",
    "    # Train the model\n",
    "model.fit(features, encodedTrafficJam)"
   ]
  },
  {
   "cell_type": "code",
   "execution_count": 9,
   "metadata": {},
   "outputs": [
    {
     "data": {
      "text/plain": [
       "['Snowy', 'Workday', 'Morning']"
      ]
     },
     "execution_count": 9,
     "metadata": {},
     "output_type": "execute_result"
    }
   ],
   "source": [
    "[\"Snowy\", \"Workday\", \"Morning\"]"
   ]
  },
  {
   "cell_type": "code",
   "execution_count": 10,
   "metadata": {},
   "outputs": [
    {
     "name": "stdout",
     "output_type": "stream",
     "text": [
      "[1]\n"
     ]
    }
   ],
   "source": [
    "print(model.predict([[2,1,2]]))"
   ]
  },
  {
   "cell_type": "code",
   "execution_count": null,
   "metadata": {},
   "outputs": [],
   "source": []
  }
 ],
 "metadata": {
  "kernelspec": {
   "display_name": "Python 3",
   "language": "python",
   "name": "python3"
  },
  "language_info": {
   "codemirror_mode": {
    "name": "ipython",
    "version": 3
   },
   "file_extension": ".py",
   "mimetype": "text/x-python",
   "name": "python",
   "nbconvert_exporter": "python",
   "pygments_lexer": "ipython3",
   "version": "3.7.3"
  }
 },
 "nbformat": 4,
 "nbformat_minor": 4
}
