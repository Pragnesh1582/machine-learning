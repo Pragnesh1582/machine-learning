{
 "cells": [
  {
   "cell_type": "markdown",
   "metadata": {},
   "source": [
    "# App dataset with decision trees"
   ]
  },
  {
   "cell_type": "code",
   "execution_count": null,
   "metadata": {},
   "outputs": [],
   "source": [
    "import pandas as pd\n",
    "import numpy as np\n",
    "from matplotlib import pyplot as plt\n",
    "from sklearn.tree import DecisionTreeClassifier"
   ]
  },
  {
   "cell_type": "code",
   "execution_count": null,
   "metadata": {},
   "outputs": [],
   "source": [
    "app_dataset = pd.DataFrame({\n",
    "    'Gender': ['Female','Female','Male','Female','Male','Male'],\n",
    "    'Age': [15, 25, 32, 35, 12, 14],\n",
    "    'App': ['Atom Count', 'Check Mate Mate', 'Beehive Finder', 'Check Mate Mate', 'Atom Count', 'Atom Count']})\n",
    "app_dataset"
   ]
  },
  {
   "cell_type": "code",
   "execution_count": null,
   "metadata": {},
   "outputs": [],
   "source": [
    "app_dataset_one_hot = pd.DataFrame(\n",
    "    {'Gender_Female':[1,1,0,1,0,0],\n",
    "     'Gender_Male':[0,0,1,0,1,1],\n",
    "     'Age_Young':[1,0,0,0,1,1],\n",
    "     'Age_Old':[0,1,1,1,0,0],\n",
    "     'App_Atom_Count':[1,0,0,0,1,1],\n",
    "     'App_Beehive_Finder':[0,0,1,0,0,0],\n",
    "     'App_Check_Mate_Mate':[0,1,0,1,0,0]})\n",
    "app_dataset_one_hot"
   ]
  },
  {
   "cell_type": "code",
   "execution_count": null,
   "metadata": {},
   "outputs": [],
   "source": [
    "X = app_dataset_one_hot[['Gender_Female','Gender_Male','Age_Old','Age_Young']]\n",
    "y = app_dataset_one_hot[['App_Atom_Count','App_Beehive_Finder','App_Check_Mate_Mate']]"
   ]
  },
  {
   "cell_type": "code",
   "execution_count": null,
   "metadata": {},
   "outputs": [],
   "source": [
    "from sklearn.tree import DecisionTreeClassifier\n",
    "dt = DecisionTreeClassifier()\n",
    "dt.fit(X,y)\n",
    "dt.score(X,y)"
   ]
  },
  {
   "cell_type": "code",
   "execution_count": null,
   "metadata": {},
   "outputs": [],
   "source": [
    "X"
   ]
  },
  {
   "cell_type": "code",
   "execution_count": null,
   "metadata": {},
   "outputs": [],
   "source": [
    "y"
   ]
  },
  {
   "cell_type": "code",
   "execution_count": null,
   "metadata": {},
   "outputs": [],
   "source": [
    "from sklearn.externals.six import StringIO  \n",
    "from IPython.display import Image  \n",
    "from sklearn.tree import export_graphviz\n",
    "import pydotplus\n",
    "dot_data = StringIO()\n",
    "export_graphviz(dt, out_file=dot_data,  \n",
    "                filled=True, rounded=True,\n",
    "                special_characters=True)\n",
    "graph = pydotplus.graph_from_dot_data(dot_data.getvalue())  \n",
    "Image(graph.create_png())"
   ]
  },
  {
   "cell_type": "code",
   "execution_count": null,
   "metadata": {},
   "outputs": [],
   "source": [
    "app_dataset = pd.DataFrame({\n",
    "    'Gender_Female':[1,1,0,1,0,0],\n",
    "    'Gender_Male':[0,0,1,0,1,1],\n",
    "    'Age': [15, 25, 32, 35, 12, 14],\n",
    "    'App': ['Atom Count', 'Check Mate Mate', 'Beehive Finder', 'Check Mate Mate', 'Atom Count', 'Atom Count']})\n",
    "print(app_dataset)"
   ]
  },
  {
   "cell_type": "code",
   "execution_count": null,
   "metadata": {},
   "outputs": [],
   "source": [
    "features = app_dataset[['Age','Gender_Female','Gender_Male']]\n",
    "print(features)"
   ]
  },
  {
   "cell_type": "code",
   "execution_count": null,
   "metadata": {},
   "outputs": [],
   "source": [
    "labels = app_dataset['App']\n",
    "print(labels)"
   ]
  },
  {
   "cell_type": "code",
   "execution_count": null,
   "metadata": {},
   "outputs": [],
   "source": [
    "app_model = DecisionTreeClassifier()\n",
    "app_model.fit(features, labels)\n",
    "app_model.score(features, labels)"
   ]
  },
  {
   "cell_type": "code",
   "execution_count": null,
   "metadata": {},
   "outputs": [],
   "source": [
    "from sklearn.externals.six import StringIO  \n",
    "from IPython.display import Image  \n",
    "from sklearn.tree import export_graphviz\n",
    "import pydotplus\n",
    "dot_data = StringIO()\n",
    "export_graphviz(app_model, out_file=dot_data,  \n",
    "                filled=True, rounded=True,\n",
    "                special_characters=True)\n",
    "graph = pydotplus.graph_from_dot_data(dot_data.getvalue())  \n",
    "Image(graph.create_png())"
   ]
  },
  {
   "cell_type": "markdown",
   "metadata": {},
   "source": [
    "# Gini index calculation"
   ]
  },
  {
   "cell_type": "code",
   "execution_count": null,
   "metadata": {},
   "outputs": [],
   "source": [
    "from __future__ import division"
   ]
  },
  {
   "cell_type": "code",
   "execution_count": null,
   "metadata": {},
   "outputs": [],
   "source": [
    "elements = ['A', 'A', 'A', 'C', 'B', 'C']\n",
    "def counts(elements):\n",
    "    classes = {}\n",
    "    for element in elements:\n",
    "        if element in classes:\n",
    "            classes[element] += 1\n",
    "        else:\n",
    "            classes[element] = 1\n",
    "    return [classes[e] for e in classes]\n",
    "counts(elements)"
   ]
  },
  {
   "cell_type": "code",
   "execution_count": null,
   "metadata": {},
   "outputs": [],
   "source": [
    "def gini(counts):\n",
    "    n = sum(counts)\n",
    "    return 1 - sum([p_i**2/n**2 for p_i in counts])\n",
    "gini(counts(elements))"
   ]
  },
  {
   "cell_type": "code",
   "execution_count": null,
   "metadata": {},
   "outputs": [],
   "source": [
    "# Splitting age on 13\n",
    "gini(counts(elements)) - (gini([1])*1/6 + gini([2,1,2])*5/6)"
   ]
  },
  {
   "cell_type": "code",
   "execution_count": null,
   "metadata": {},
   "outputs": [],
   "source": [
    "# Splitting age on 14.5\n",
    "gini(counts(elements)) - (gini([2])*2/6 + gini([1,1,2])*4/6)"
   ]
  },
  {
   "cell_type": "code",
   "execution_count": null,
   "metadata": {},
   "outputs": [],
   "source": [
    "# Splitting age on 20\n",
    "gini(counts(elements)) - (gini([3])*3/6 + gini([1,2])*3/6)"
   ]
  },
  {
   "cell_type": "code",
   "execution_count": null,
   "metadata": {},
   "outputs": [],
   "source": [
    "# Splitting age on 27\n",
    "gini(counts(elements)) - (gini([3,1])*4/6 + gini([1,1])*2/6)"
   ]
  },
  {
   "cell_type": "code",
   "execution_count": null,
   "metadata": {},
   "outputs": [],
   "source": [
    "# Splitting age on 33\n",
    "gini(counts(elements)) - (gini([3,1,1])*5/6 + gini([1])*1/6)"
   ]
  },
  {
   "cell_type": "markdown",
   "metadata": {},
   "source": [
    "# Spam example"
   ]
  },
  {
   "cell_type": "code",
   "execution_count": null,
   "metadata": {},
   "outputs": [],
   "source": [
    "spam_dataset = pd.DataFrame({\n",
    "    'Lottery':[7,3,9,1,2,4,1,3,6,7,8,9],\n",
    "    'Sale':[1,2,3,3,6,7,9,10,5,8,4,6],\n",
    "    'Spam': [0,0,0,0,0,0,1,1,1,1,1,1]}) #'no','no','no','no','no','no','yes','yes','yes','yes','yes','yes'\n",
    "\n",
    "spam_dataset"
   ]
  },
  {
   "cell_type": "code",
   "execution_count": null,
   "metadata": {},
   "outputs": [],
   "source": [
    "# Some functions to plot our points and draw the models\n",
    "def plot_points(features, labels):\n",
    "    X = np.array(features)\n",
    "    y = np.array(labels)\n",
    "    spam = X[np.argwhere(y==1)]\n",
    "    ham = X[np.argwhere(y==0)]\n",
    "    plt.scatter([s[0][0] for s in spam],\n",
    "                [s[0][1] for s in spam],\n",
    "                s = 25,\n",
    "                color = 'cyan',\n",
    "                edgecolor = 'k',\n",
    "                marker = '^')\n",
    "    plt.scatter([s[0][0] for s in ham],\n",
    "                [s[0][1] for s in ham],\n",
    "                s = 25,\n",
    "                color = 'red',\n",
    "                edgecolor = 'k',\n",
    "                marker = 's')\n",
    "    plt.xlabel('Sale')\n",
    "    plt.ylabel('Lottery')\n",
    "    plt.legend(['spam','ham'])\n",
    "\n",
    "def plot_model(X, y, model):\n",
    "    X = np.array(X)\n",
    "    y = np.array(y)\n",
    "    plot_step = 0.2\n",
    "    x_min, x_max = X[:, 0].min() - 1, X[:, 0].max() + 1\n",
    "    y_min, y_max = X[:, 1].min() - 1, X[:, 1].max() + 1\n",
    "    xx, yy = np.meshgrid(np.arange(x_min, x_max, plot_step),\n",
    "                         np.arange(y_min, y_max, plot_step))\n",
    "    Z = model.predict(np.c_[xx.ravel(), yy.ravel()])\n",
    "    Z = Z.reshape(xx.shape)\n",
    "    plt.contourf(xx, yy, Z, colors=['red', 'blue'], alpha=0.2, levels=range(-1,2))\n",
    "    plt.contour(xx, yy, Z,colors = 'k',linewidths = 1)\n",
    "    plot_points(X, y)\n",
    "    plt.show()"
   ]
  },
  {
   "cell_type": "code",
   "execution_count": null,
   "metadata": {},
   "outputs": [],
   "source": [
    "X = spam_dataset[['Lottery', 'Sale']]\n",
    "y = spam_dataset['Spam']\n",
    "\n",
    "plot_points(X, y)"
   ]
  },
  {
   "cell_type": "code",
   "execution_count": null,
   "metadata": {},
   "outputs": [],
   "source": [
    "X = spam_dataset[['Lottery', 'Sale']]\n",
    "y = spam_dataset['Spam']\n",
    "spam_decision_tree = DecisionTreeClassifier()\n",
    "spam_decision_tree.fit(X,y)\n",
    "spam_decision_tree.score(X,y)"
   ]
  },
  {
   "cell_type": "code",
   "execution_count": null,
   "metadata": {},
   "outputs": [],
   "source": [
    "from sklearn.externals.six import StringIO  \n",
    "from IPython.display import Image  \n",
    "from sklearn.tree import export_graphviz\n",
    "import pydotplus\n",
    "dot_data = StringIO()\n",
    "export_graphviz(spam_decision_tree, out_file=dot_data,  \n",
    "                filled=True, rounded=True,\n",
    "                special_characters=True)\n",
    "graph = pydotplus.graph_from_dot_data(dot_data.getvalue())  \n",
    "Image(graph.create_png())"
   ]
  },
  {
   "cell_type": "code",
   "execution_count": null,
   "metadata": {},
   "outputs": [],
   "source": [
    "plot_model(X, y, spam_decision_tree)"
   ]
  },
  {
   "cell_type": "code",
   "execution_count": null,
   "metadata": {},
   "outputs": [],
   "source": []
  }
 ],
 "metadata": {
  "kernelspec": {
   "display_name": "Python 3",
   "language": "python",
   "name": "python3"
  },
  "language_info": {
   "codemirror_mode": {
    "name": "ipython",
    "version": 3
   },
   "file_extension": ".py",
   "mimetype": "text/x-python",
   "name": "python",
   "nbconvert_exporter": "python",
   "pygments_lexer": "ipython3",
   "version": "3.7.3"
  }
 },
 "nbformat": 4,
 "nbformat_minor": 2
}
