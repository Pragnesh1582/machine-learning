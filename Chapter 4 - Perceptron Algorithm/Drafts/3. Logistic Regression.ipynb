{
 "cells": [
  {
   "cell_type": "code",
   "execution_count": null,
   "metadata": {},
   "outputs": [],
   "source": [
    "# Importing packages\n",
    "from matplotlib import pyplot as plt\n",
    "import numpy as np\n",
    "import pandas as pd\n",
    "from numpy import random"
   ]
  },
  {
   "cell_type": "code",
   "execution_count": null,
   "metadata": {},
   "outputs": [],
   "source": [
    "# Some functions to plot our points and draw the lines\n",
    "def plot_points(features, labels):\n",
    "    X = np.array(features)\n",
    "    y = np.array(labels)\n",
    "    spam = X[np.argwhere(y==1)]\n",
    "    ham = X[np.argwhere(y==0)]\n",
    "    plt.scatter([s[0][0] for s in spam],\n",
    "                [s[0][1] for s in spam],\n",
    "                s = 25,\n",
    "                color = 'green',\n",
    "                edgecolor = 'k',\n",
    "                marker = 's')\n",
    "    plt.scatter([s[0][0] for s in ham],\n",
    "                [s[0][1] for s in ham],\n",
    "                s = 25,\n",
    "                color = 'red',\n",
    "                edgecolor = 'k',\n",
    "                marker = '^')\n",
    "    plt.xlabel('a')\n",
    "    plt.ylabel('b')\n",
    "    plt.legend(['happy','sad'])\n",
    "def draw_line(a,b,c, color='black', linewidth=2.0, linestyle='solid', starting=-2, ending=2):\n",
    "    # Plotting the line ax + by + c = 0\n",
    "    x = np.linspace(starting, ending, 1000)\n",
    "    plt.plot(x, -c/b - a*x/b, linestyle=linestyle, color=color, linewidth=linewidth)"
   ]
  },
  {
   "cell_type": "code",
   "execution_count": null,
   "metadata": {},
   "outputs": [],
   "source": [
    "import pandas as pd\n",
    "features = pd.DataFrame([[4,2],[2,0],[3,0],[0,1],[2,1],[0,2],[1,2],[2,3],[1,1],[4,1],[3,2],[4,3],[1,4],[2,4],[3,4],[1,0],[0,3]])\n",
    "labels = pd.Series([1,0,0,0,0,0,0,1,0,1,1,1,1,1,1,0,0])\n",
    "plot_points(features, labels)\n",
    "draw_line(1,1,-4, starting=0, ending=4)"
   ]
  },
  {
   "cell_type": "code",
   "execution_count": null,
   "metadata": {},
   "outputs": [],
   "source": [
    "def sigmoid(x):\n",
    "    return np.exp(x)/(1.0+np.exp(x))\n",
    "def predict(features, weights):\n",
    "    return sigmoid(np.dot(features, weights))\n",
    "def log_loss(features, labels, a, b, c):\n",
    "    predictions = (a*features[0] + b*features[1] - c).apply(sigmoid)\n",
    "    error = 0\n",
    "    for i in range(len(predictions)):\n",
    "        y_hat, y = predictions.loc[i], labels.loc[i]\n",
    "        error += - y*np.log(y_hat) - (1-y)*np.log(1-y_hat)\n",
    "        #print y_hat, y, error\n",
    "    return error"
   ]
  },
  {
   "cell_type": "code",
   "execution_count": null,
   "metadata": {},
   "outputs": [],
   "source": [
    "random.seed(0)\n",
    "\n",
    "def lr_trick(a, b, c, x1, x2, learning_rate, label):\n",
    "    prediction = sigmoid(a*x1 + b*x2 + c)\n",
    "    #print \"========\"\n",
    "    #print \"Point:\",'(',x1,'x',x2,')'\n",
    "    #print \"Label:\",label\n",
    "    #print \"Prediction:\",prediction\n",
    "    #print \"Weights:\",a,',',b,',',c\n",
    "\n",
    "    a += learning_rate*(label - prediction)*x1\n",
    "    b += learning_rate*(label - prediction)*x2\n",
    "    c -= learning_rate*(label - prediction)\n",
    "    new_prediction = sigmoid(a*x1 + b*x2 - c)\n",
    "    \n",
    "    #print \"New weights:\",a,',',b,',',c\n",
    "    #new_prediction = sigmoid(a*x1 + b*x2 + c)\n",
    "    #print \"New prediction:\", new_prediction\n",
    "    #print \"Got better?\", np.abs(label-prediction) > np.abs(label-new_prediction)\n",
    "    return a, b, c\n",
    "\n",
    "def lr(features, labels, learning_rate=0.01, epochs = 1000, l1_rate=0, l2_rate=0, draw=True):\n",
    "\n",
    "    features = features - features.mean()\n",
    "    #features[1] = -features[1]\n",
    "    left = min(features[0])\n",
    "    right = max(features[1])\n",
    "\n",
    "\n",
    "    a = 0.1#random.random(1)-0.5    #B\n",
    "    b = 0.1#random.random(1)-0.5\n",
    "    c = 0.1#random.random(1)-0.5\n",
    "    plot_points(features, labels)\n",
    "    if draw or True:\n",
    "        draw_line(a, b, c, linewidth = 1.0, linestyle='dotted', color='black', starting=left, ending=right)    #C\n",
    "    errors = []\n",
    "    \n",
    "    for i in range(epochs):     #D\n",
    "        if i<50 or i%(epochs/100.0) == 0:\n",
    "            if draw:\n",
    "                draw_line(a, b, c, linewidth = 0.1, linestyle='dotted', color='grey', starting=left, ending=right)\n",
    "        errors.append(log_loss(features, labels, a, b, c))\n",
    "        i = random.randint(len(features))     #E\n",
    "        x1, x2 = features.loc[i]\n",
    "        label = labels[i]\n",
    "        a,b,c = lr_trick(a, b, c, x1, x2, learning_rate, label)\n",
    "        \n",
    "        # L1 Regularization step\n",
    "        a -= l1_rate\n",
    "        b -= l1_rate\n",
    "        \n",
    "        # L2 Regularization step\n",
    "        a = (1-l2_rate)*a\n",
    "        b = (1-l2_rate)*b\n",
    "\n",
    "    print left, right\n",
    "    draw_line(a, b, c, linewidth=0.5, color='black', starting=left, ending=right)\n",
    "    print 'a: ' + str(a)     #G\n",
    "    print 'b: ' + str(b)\n",
    "    print 'c:'  + str(c)\n",
    "    plt.show()\n",
    "    plt.scatter(range(len(errors)), errors)\n",
    "    plt.show()\n",
    "    #return a, b, c     #I"
   ]
  },
  {
   "cell_type": "code",
   "execution_count": null,
   "metadata": {},
   "outputs": [],
   "source": []
  },
  {
   "cell_type": "code",
   "execution_count": null,
   "metadata": {},
   "outputs": [],
   "source": [
    "features = pd.DataFrame([[4,2],[2,0],[3,0],[0,1],[2,1],[0,2],[1,2],[2,3],[1,1],[4,1],[3,2],[4,3],[1,4],[2,4],[3,4],[1,0],[0,3]])\n",
    "labels = pd.Series([1,0,0,0,0,0,0,1,0,1,1,1,1,1,1,0,0])\n",
    "\n",
    "nfeatures = pd.DataFrame([[4,2],[2,0],[3,0],[0,1],[2,1],[0,2],[1,2],[2,3],[1,1],[4,1],[3,2],[4,3],[1,4],[2,4],[3,4],[1,0],[0,3]])\n",
    "nlabels = pd.Series([0,0,0,0,0,0,0,0,1,1,1,1,1,1,1,1,1])\n",
    "\n",
    "#plot_points(features, labels)\n",
    "#draw_line(1,1,-4, starting=0, ending=4)\n",
    "\n",
    "lr(nfeatures, nlabels, epochs = 1000, draw=False, learning_rate=0.01, l2_rate=0.001, l1_rate=0.001)"
   ]
  },
  {
   "cell_type": "code",
   "execution_count": null,
   "metadata": {},
   "outputs": [],
   "source": [
    "small_features = pd.DataFrame([[0,1],[1,0],[2,1],[1,2]])\n",
    "small_labels = pd.Series([0,0,1,1])\n",
    "\n",
    "small_features = pd.DataFrame([[0,1],[1,0],[2,0],[0,2],[1,1],[2,1],[1,2],[2,2],[1,3],[3,1]])\n",
    "small_labels = pd.Series([0,0,0,0,0,1,1,1,1,1])\n",
    "\n",
    "small_features = pd.DataFrame([[3,0],[0,2],[2,1],[1,3]])\n",
    "small_labels = pd.Series([1,0,1,0])\n",
    "\n",
    "#plot_points(small_features, small_labels)\n",
    "#draw_line(1,1,-4, starting=0, ending=4)\n",
    "\n",
    "lr(small_features, small_labels, epochs = 1000, draw=False)"
   ]
  },
  {
   "cell_type": "code",
   "execution_count": null,
   "metadata": {},
   "outputs": [],
   "source": []
  },
  {
   "cell_type": "code",
   "execution_count": null,
   "metadata": {},
   "outputs": [],
   "source": []
  }
 ],
 "metadata": {
  "kernelspec": {
   "display_name": "Python 3",
   "language": "python",
   "name": "python3"
  },
  "language_info": {
   "codemirror_mode": {
    "name": "ipython",
    "version": 3
   },
   "file_extension": ".py",
   "mimetype": "text/x-python",
   "name": "python",
   "nbconvert_exporter": "python",
   "pygments_lexer": "ipython3",
   "version": "3.7.3"
  }
 },
 "nbformat": 4,
 "nbformat_minor": 2
}
