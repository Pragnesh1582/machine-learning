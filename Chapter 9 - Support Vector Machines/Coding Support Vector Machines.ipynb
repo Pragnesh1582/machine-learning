{
 "cells": [
  {
   "cell_type": "markdown",
   "metadata": {},
   "source": [
    "# Support Vector Machines\n",
    "\n",
    "### Some plotting functions"
   ]
  },
  {
   "cell_type": "code",
   "execution_count": null,
   "metadata": {},
   "outputs": [],
   "source": [
    "# Importing packages\n",
    "from matplotlib import pyplot as plt\n",
    "import numpy as np\n",
    "import random"
   ]
  },
  {
   "cell_type": "code",
   "execution_count": null,
   "metadata": {},
   "outputs": [],
   "source": [
    "# Some functions to plot our points and draw the lines\n",
    "def plot_points(features, labels):\n",
    "    X = np.array(features)\n",
    "    y = np.array(labels)\n",
    "    spam = X[np.argwhere(y==1)]\n",
    "    ham = X[np.argwhere(y==0)]\n",
    "    plt.scatter([s[0][0] for s in spam],\n",
    "                [s[0][1] for s in spam],\n",
    "                s = 25,\n",
    "                color = 'cyan',\n",
    "                edgecolor = 'k',\n",
    "                marker = '^')\n",
    "    plt.scatter([s[0][0] for s in ham],\n",
    "                [s[0][1] for s in ham],\n",
    "                s = 25,\n",
    "                color = 'red',\n",
    "                edgecolor = 'k',\n",
    "                marker = 's')\n",
    "    plt.xlabel('aack')\n",
    "    plt.ylabel('beep')\n",
    "    plt.legend(['happy','sad'])\n",
    "def draw_line(a,b,c, color='black', linewidth=2.0, linestyle='solid', starting=0, ending=3):\n",
    "    # Plotting the line ax + by + c = 0\n",
    "    x = np.linspace(starting, ending, 1000)\n",
    "    plt.plot(x, -c/b - a*x/b, linestyle=linestyle, color=color, linewidth=linewidth)"
   ]
  },
  {
   "cell_type": "code",
   "execution_count": null,
   "metadata": {},
   "outputs": [],
   "source": [
    "import pandas as pd\n",
    "X = pd.DataFrame([[1,0],[0,2],[1,1],[0,1],[1,3],[2,2],[3,2],[2,3]])\n",
    "y = pd.Series([0,0,0,0,1,1,1,1])"
   ]
  },
  {
   "cell_type": "code",
   "execution_count": null,
   "metadata": {},
   "outputs": [],
   "source": [
    "# Plotting the points\n",
    "plot_points(X, y)\n",
    "\n",
    "# Uncomment the following line to see a good line fit for this data.\n",
    "draw_line(1,1,-3.9, linestyle='dotted')\n",
    "draw_line(1,1,-2.1, linestyle='dotted')"
   ]
  },
  {
   "cell_type": "markdown",
   "metadata": {},
   "source": [
    "### The SVM Algorithm"
   ]
  },
  {
   "cell_type": "code",
   "execution_count": null,
   "metadata": {},
   "outputs": [],
   "source": [
    "def score(weights, bias, features):\n",
    "    return features.dot(weights) + bias\n",
    "\n",
    "def prediction(weights, bias, features):\n",
    "    return int(score(weights, bias, features) >= 0)\n",
    "\n",
    "def lr_prediction_error(weights, bias, features, label):\n",
    "    pred = prediction(weights, bias, features)\n",
    "    if pred == label:\n",
    "        return 0\n",
    "    else:\n",
    "        return np.abs(score(weights, bias, features))\n",
    "\n",
    "def svm_prediction_error(weights, bias, features, label):\n",
    "    pred_1 = prediction(weights, bias+1, features)\n",
    "    pred_2 = prediction(weights, bias-1, features)\n",
    "    error = 0\n",
    "    if pred_1 != label:\n",
    "        error += np.abs(score(weights, bias+1, features))\n",
    "    if pred_2 != label:\n",
    "        error += np.abs(score(weights, bias-1, features))\n",
    "    return error\n",
    "    \n",
    "def svm_margin_error(weights):\n",
    "    return np.dot(weights, weights)\n",
    "    \n",
    "def svm_error(weights, bias, X, y):\n",
    "    total_error = 0\n",
    "    for i in range(len(X)):\n",
    "        features = X.loc[i]\n",
    "        label = y[i]\n",
    "        total_error += svm_prediction_error(weights, bias, features, label)\n",
    "    total_error = total_error/len(y)\n",
    "    total_error += svm_margin_error(weights)\n",
    "    return total_error"
   ]
  },
  {
   "cell_type": "code",
   "execution_count": null,
   "metadata": {},
   "outputs": [],
   "source": [
    "weights = [1,1]\n",
    "bias = -3.5\n",
    "features = X\n",
    "labels = y\n",
    "total_error = 0\n",
    "\n",
    "print(svm_error(weights, bias, X, y))"
   ]
  },
  {
   "cell_type": "code",
   "execution_count": null,
   "metadata": {},
   "outputs": [],
   "source": [
    "def svm_trick(weights, bias, features, label, learning_rate = 0.01):\n",
    "    pred = prediction(weights, bias, features)\n",
    "    pred_1 = prediction(weights, bias+1, features)\n",
    "    pred_2 = prediction(weights, bias-1, features)\n",
    "\n",
    "    # If pred_1 misclassifies the point\n",
    "    if label==1 and pred_1 == 0:\n",
    "        for i in range(len(weights)):\n",
    "            weights[i] += features[i]*learning_rate\n",
    "        bias += learning_rate\n",
    "    if label==0 and pred_1 == 1:\n",
    "        for i in range(len(weights)):\n",
    "            weights[i] -= features[i]*learning_rate\n",
    "        bias -= learning_rate\n",
    "\n",
    "    # If pred_2 misclassifies the point\n",
    "    if label==1 and pred_2 == 0:\n",
    "        for i in range(len(weights)):\n",
    "            weights[i] += features[i]*learning_rate\n",
    "        bias += learning_rate\n",
    "    if label==0 and pred_2 == 1:\n",
    "        for i in range(len(weights)):\n",
    "            weights[i] -= features[i]*learning_rate\n",
    "        bias -= learning_rate\n",
    "\n",
    "    # Separate the lines\n",
    "    for i in range(len(weights)):\n",
    "        weights[i] *= (1-learning_rate)\n",
    "    bias *= (1-learning_rate)\n",
    "\n",
    "    return weights, bias"
   ]
  },
  {
   "cell_type": "code",
   "execution_count": null,
   "metadata": {},
   "outputs": [],
   "source": [
    "def build_svm(X, y, epochs = 1000, learning_rate = 0.01, C=1):\n",
    "    weights = [1.0 for i in range(len(X.loc[0]))]\n",
    "    bias = 0\n",
    "    classification_errors = []\n",
    "    distance_errors = []\n",
    "    errors = []\n",
    "    for epoch in range(epochs):\n",
    "        #draw_line(weights[0], weights[1], bias+1, color='red', linewidth=1.0, linestyle='dotted')\n",
    "        #draw_line(weights[0], weights[1], bias-1, color='blue', linewidth=1.0, linestyle='dotted')\n",
    "        draw_line(weights[0], weights[1], bias, color='grey', linewidth=1.0, linestyle='dotted')\n",
    "\n",
    "        # Pick a random point\n",
    "        random_point = random.randint(0, len(X)-1)\n",
    "        features = X.loc[random_point]\n",
    "        label = y.loc[random_point]\n",
    "        #print(random_point)\n",
    "        #print(features)\n",
    "        #print(label)\n",
    "        weights, bias = svm_trick(weights, bias, features, label)\n",
    "        #print(weights, bias)\n",
    "        errors.append(svm_error(weights, bias, X, y))\n",
    "        classification_errors.append(svm_prediction_error(weights, bias, X, y))\n",
    "        distance_errors.append(svm_margin_error(weights, bias, X, y))\n",
    "\n",
    "    draw_line(weights[0], weights[1], bias+1, color='red')\n",
    "    draw_line(weights[0], weights[1], bias-1, color='blue')\n",
    "\n",
    "    plot_points(X, y)\n",
    "    plt.show()\n",
    "    plt.scatter(range(epochs), errors)\n",
    "\n",
    "    plt.show()\n",
    "    plt.scatter(range(epochs), classification_errors)\n",
    "\n",
    "    plt.show()\n",
    "    plt.scatter(range(epochs), distance_errors)\n",
    "\n",
    "    return weights, bias\n",
    "\n",
    "build_svm(X,y)"
   ]
  },
  {
   "cell_type": "code",
   "execution_count": null,
   "metadata": {},
   "outputs": [],
   "source": []
  },
  {
   "cell_type": "code",
   "execution_count": null,
   "metadata": {},
   "outputs": [],
   "source": [
    "# DON'T RUN\n",
    "def svm_trick(weights, bias, features, label, learning_rate = 0.01):\n",
    "    pred = prediction(weights, bias, features)\n",
    "    if pred == label:\n",
    "        return weights, bias\n",
    "    else:\n",
    "        if label==1 and pred==0:\n",
    "            for i in range(len(weights)):\n",
    "                weights[i] += features[i]*learning_rate\n",
    "            bias += learning_rate\n",
    "        elif label==0 and pred==1:\n",
    "            for i in range(len(weights)):\n",
    "                weights[i] -= features[i]*learning_rate\n",
    "            bias -= learning_rate\n",
    "    #weights *= (1-learning_rate)\n",
    "    return weights, bias\n",
    "\n",
    "def perceptron_trick_clever(weights, bias, features, label, learning_rate = 0.01):\n",
    "    pred = prediction(weights, bias, features)\n",
    "    for i in range(len(weights)):\n",
    "        weights[i] += (label-pred)*features[i]*learning_rate\n",
    "        bias += (label-pred)*learning_rate\n",
    "    return weights, bias"
   ]
  },
  {
   "cell_type": "code",
   "execution_count": null,
   "metadata": {},
   "outputs": [],
   "source": [
    "random.seed(0)\n",
    "def svm_algorithm(X, y, learning_rate = 0.01, epochs = 200):\n",
    "    weights = np.array([1.0 for i in range(len(X.loc[0]))])\n",
    "    bias = 0.0\n",
    "    errors = []\n",
    "    for i in range(epochs):\n",
    "        # Uncomment the following line to draw all the intermediate classifiers\n",
    "        draw_line(weights[0], weights[1], bias, color='grey', linewidth=1.0, linestyle='dotted')\n",
    "        errors.append(total_error(weights, bias, X, y))\n",
    "        j = random.randint(0, len(features)-1)\n",
    "        weights, bias = svm_trick(weights, bias, X.loc[j], y[j])\n",
    "    draw_line(weights[0], weights[1], bias)\n",
    "    plot_points(X, y)\n",
    "    plt.show()\n",
    "    plt.scatter(range(epochs), errors)\n",
    "    return weights, bias"
   ]
  },
  {
   "cell_type": "code",
   "execution_count": null,
   "metadata": {},
   "outputs": [],
   "source": [
    "svm_algorithm(X, y)"
   ]
  },
  {
   "cell_type": "code",
   "execution_count": null,
   "metadata": {},
   "outputs": [],
   "source": [
    "svm_algorithm(X, y)"
   ]
  },
  {
   "cell_type": "code",
   "execution_count": null,
   "metadata": {},
   "outputs": [],
   "source": []
  }
 ],
 "metadata": {
  "kernelspec": {
   "display_name": "Python 3",
   "language": "python",
   "name": "python3"
  },
  "language_info": {
   "codemirror_mode": {
    "name": "ipython",
    "version": 3
   },
   "file_extension": ".py",
   "mimetype": "text/x-python",
   "name": "python",
   "nbconvert_exporter": "python",
   "pygments_lexer": "ipython3",
   "version": "3.7.3"
  }
 },
 "nbformat": 4,
 "nbformat_minor": 2
}
