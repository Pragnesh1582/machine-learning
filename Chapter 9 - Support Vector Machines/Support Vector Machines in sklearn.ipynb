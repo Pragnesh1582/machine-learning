{
 "cells": [
  {
   "cell_type": "code",
   "execution_count": null,
   "metadata": {},
   "outputs": [],
   "source": [
    "import matplotlib.pyplot as plt\n",
    "\n",
    "# Some functions to plot our points and draw the models\n",
    "def plot_points(features, labels):\n",
    "    X = np.array(features)\n",
    "    y = np.array(labels)\n",
    "    spam = X[np.argwhere(y==1)]\n",
    "    ham = X[np.argwhere(y==0)]\n",
    "    plt.scatter([s[0][0] for s in spam],\n",
    "                [s[0][1] for s in spam],\n",
    "                s = 25,\n",
    "                color = 'cyan',\n",
    "                edgecolor = 'k',\n",
    "                marker = '^')\n",
    "    plt.scatter([s[0][0] for s in ham],\n",
    "                [s[0][1] for s in ham],\n",
    "                s = 25,\n",
    "                color = 'red',\n",
    "                edgecolor = 'k',\n",
    "                marker = 's')\n",
    "    #plt.xlabel('Sale')\n",
    "    #plt.ylabel('Lottery')\n",
    "    #plt.legend(['spam','ham'])\n",
    "\n",
    "def plot_model(X, y, model):\n",
    "    X = np.array(X)\n",
    "    y = np.array(y)\n",
    "    plot_step = 0.2\n",
    "    x_min, x_max = X[:, 0].min() - 1, X[:, 0].max() + 1\n",
    "    y_min, y_max = X[:, 1].min() - 1, X[:, 1].max() + 1\n",
    "    xx, yy = np.meshgrid(np.arange(x_min, x_max, plot_step),\n",
    "                         np.arange(y_min, y_max, plot_step))\n",
    "    Z = model.predict(np.c_[xx.ravel(), yy.ravel()])\n",
    "    Z = Z.reshape(xx.shape)\n",
    "    plt.contourf(xx, yy, Z, colors=['red', 'blue'], alpha=0.2, levels=range(-1,2))\n",
    "    plt.contour(xx, yy, Z,colors = 'k',linewidths = 1)\n",
    "    plot_points(X, y)\n",
    "    plt.show()"
   ]
  },
  {
   "cell_type": "code",
   "execution_count": null,
   "metadata": {},
   "outputs": [],
   "source": [
    "# Writing the csv, but use the code below instead\n",
    "\n",
    "df = pd.DataFrame(columns = ['x1', 'x2', 'y'])\n",
    "\n",
    "for i in range(20):\n",
    "    radius = random.random()\n",
    "    angle = 2*np.pi*random.random()\n",
    "    df = df.append([[np.around(radius*np.cos(angle), decimals=2),np.around(radius*np.sin(angle), decimals=2),0]])\n",
    "for i in range(30):\n",
    "    radius = random.random()+1\n",
    "    angle = 2*np.pi*random.random()\n",
    "    df = df.append([[np.around(radius*np.cos(angle), decimals=2),np.around(radius*np.sin(angle), decimals=2),1]])\n",
    "df.to_csv('circular_data.csv')"
   ]
  },
  {
   "cell_type": "code",
   "execution_count": null,
   "metadata": {},
   "outputs": [],
   "source": [
    "import random\n",
    "for i in range(20):\n",
    "    radius = random.random()\n",
    "    angle = 2*np.pi*random.random()\n",
    "    print(np.around(radius*np.cos(angle), decimals=2),',',np.around(radius*np.sin(angle), decimals=2), ', 0')\n",
    "for i in range(30):\n",
    "    radius = random.random()+1\n",
    "    angle = 2*np.pi*random.random()\n",
    "    print(np.around(radius*np.cos(angle), decimals=2),',',np.around(radius*np.sin(angle), decimals=2), ', 1')"
   ]
  },
  {
   "cell_type": "code",
   "execution_count": null,
   "metadata": {},
   "outputs": [],
   "source": [
    "import pandas as pd\n",
    "import numpy as np\n",
    "import sklearn\n",
    "\n",
    "data = pd.read_csv('./circular_data.csv')\n",
    "\n",
    "features = data[['x1','x2']]\n",
    "labels = data['y']\n",
    "\n",
    "plot_points(features, labels)"
   ]
  },
  {
   "cell_type": "code",
   "execution_count": null,
   "metadata": {},
   "outputs": [],
   "source": [
    "features = data[['x1', 'x2']]\n",
    "labels = data['y']\n",
    "import sklearn\n",
    "svm = sklearn.svm.SVC()\n",
    "svm.fit(features, labels)\n",
    "svm.score(features, labels)\n",
    "\n",
    "plot_model(features, labels, svm)"
   ]
  },
  {
   "cell_type": "code",
   "execution_count": null,
   "metadata": {},
   "outputs": [],
   "source": []
  },
  {
   "cell_type": "code",
   "execution_count": null,
   "metadata": {},
   "outputs": [],
   "source": []
  }
 ],
 "metadata": {
  "kernelspec": {
   "display_name": "Python 3",
   "language": "python",
   "name": "python3"
  },
  "language_info": {
   "codemirror_mode": {
    "name": "ipython",
    "version": 3
   },
   "file_extension": ".py",
   "mimetype": "text/x-python",
   "name": "python",
   "nbconvert_exporter": "python",
   "pygments_lexer": "ipython3",
   "version": "3.7.3"
  }
 },
 "nbformat": 4,
 "nbformat_minor": 2
}
