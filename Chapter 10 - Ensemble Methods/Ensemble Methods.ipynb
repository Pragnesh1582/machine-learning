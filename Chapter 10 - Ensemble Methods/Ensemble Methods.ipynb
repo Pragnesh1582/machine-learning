{
 "cells": [
  {
   "cell_type": "markdown",
   "metadata": {},
   "source": [
    "# Spam dataset with ensemble methods"
   ]
  },
  {
   "cell_type": "code",
   "execution_count": null,
   "metadata": {},
   "outputs": [],
   "source": [
    "import pandas as pd\n",
    "import numpy as np\n",
    "from matplotlib import pyplot as plt\n",
    "from sklearn.tree import DecisionTreeClassifier\n",
    "from sklearn import tree\n",
    "\n",
    "# Some functions to plot our points and draw the lines\n",
    "def plot_points(features, labels, fix_margins=True):\n",
    "    X = np.array(features)\n",
    "    y = np.array(labels)\n",
    "    spam = X[np.argwhere(y==1)]\n",
    "    ham = X[np.argwhere(y==0)]\n",
    "    if fix_margins:\n",
    "        plt.xlim(0, 11)\n",
    "        plt.ylim(0, 11)\n",
    "    plt.scatter([s[0][0] for s in spam],\n",
    "                [s[0][1] for s in spam],\n",
    "                s = 25,\n",
    "                color = 'cyan',\n",
    "                edgecolor = 'k',\n",
    "                marker = '^')\n",
    "    plt.scatter([s[0][0] for s in ham],\n",
    "                [s[0][1] for s in ham],\n",
    "                s = 25,\n",
    "                color = 'red',\n",
    "                edgecolor = 'k',\n",
    "                marker = 's')\n",
    "    plt.xlabel('Lottery')\n",
    "    plt.ylabel('Sale')\n",
    "    plt.legend(['Spam','Ham'])\n",
    "\n",
    "def plot_model(X, y, model, fix_margins=True):\n",
    "    X = np.array(X)\n",
    "    y = np.array(y)\n",
    "    plot_step = 0.2\n",
    "    x_min, x_max = X[:, 0].min() - 1, X[:, 0].max() + 1\n",
    "    y_min, y_max = X[:, 1].min() - 1, X[:, 1].max() + 1\n",
    "    if fix_margins:\n",
    "        x_min=0\n",
    "        y_min=0\n",
    "        x_max=12\n",
    "        y_max=12\n",
    "    xx, yy = np.meshgrid(np.arange(x_min, x_max, plot_step),\n",
    "                         np.arange(y_min, y_max, plot_step))\n",
    "    Z = model.predict(np.c_[xx.ravel(), yy.ravel()])\n",
    "    Z = Z.reshape(xx.shape)\n",
    "    plt.contourf(xx, yy, Z, colors=['red', 'blue'], alpha=0.2, levels=range(-1,2))\n",
    "    plt.contour(xx, yy, Z,colors = 'k',linewidths = 1)\n",
    "    plot_points(X, y)\n",
    "    plt.show()\n",
    "\n",
    "def plot_trees(model):\n",
    "    estimators = gradient_boosting_model.estimators_\n",
    "    for i in range(len(estimators)):\n",
    "        tree.plot_tree(estimators[i][0])\n",
    "        plt.show()\n",
    "        #plot_model(new_X, new_y, estimators[i][0])"
   ]
  },
  {
   "cell_type": "code",
   "execution_count": null,
   "metadata": {},
   "outputs": [],
   "source": [
    "spam_dataset = pd.DataFrame({\n",
    "    'Lottery':[7,3,9,1,2,4,1,3,6,7,8,9],\n",
    "    'Sale':[1,2,3,3,6,7,9,10,5,8,4,6],\n",
    "    'Spam': [0,0,0,0,0,0,1,1,1,1,1,1]}) #'no','no','no','no','no','no','yes','yes','yes','yes','yes','yes'\n",
    "\n",
    "spam_dataset"
   ]
  },
  {
   "cell_type": "code",
   "execution_count": null,
   "metadata": {},
   "outputs": [],
   "source": [
    "X = spam_dataset[['Lottery', 'Sale']]\n",
    "y = spam_dataset['Spam']\n",
    "\n",
    "plot_points(X, y)"
   ]
  },
  {
   "cell_type": "code",
   "execution_count": null,
   "metadata": {},
   "outputs": [],
   "source": [
    "X = spam_dataset[['Lottery', 'Sale']]\n",
    "y = spam_dataset['Spam']\n",
    "spam_decision_tree = DecisionTreeClassifier(random_state=0)\n",
    "spam_decision_tree.fit(X,y)\n",
    "spam_decision_tree.score(X,y)"
   ]
  },
  {
   "cell_type": "code",
   "execution_count": null,
   "metadata": {},
   "outputs": [],
   "source": [
    "from sklearn.externals.six import StringIO  \n",
    "from IPython.display import Image  \n",
    "from sklearn.tree import export_graphviz\n",
    "import pydotplus\n",
    "dot_data = StringIO()\n",
    "export_graphviz(spam_decision_tree, out_file=dot_data,  \n",
    "                filled=True, rounded=True,\n",
    "                special_characters=True)\n",
    "graph = pydotplus.graph_from_dot_data(dot_data.getvalue())  \n",
    "Image(graph.create_png())"
   ]
  },
  {
   "cell_type": "code",
   "execution_count": null,
   "metadata": {},
   "outputs": [],
   "source": [
    "plot_model(X, y, spam_decision_tree)"
   ]
  },
  {
   "cell_type": "markdown",
   "metadata": {},
   "source": [
    "# Now with a slightly modified dataset"
   ]
  },
  {
   "cell_type": "code",
   "execution_count": null,
   "metadata": {},
   "outputs": [],
   "source": [
    "new_spam_dataset = pd.DataFrame({\n",
    "    'Lottery':[7,3,9,1,2,4,1,3,6,7,8,9,8,2],\n",
    "    'Sale':   [1,2,3,3,6,7,9,10,5,8,4,6,5,2],\n",
    "    'Spam':   [0,0,0,0,0,0,1,1,1,1,1,1,0,1]}) #'no','no','no','no','no','no','yes','yes','yes','yes','yes','yes'\n",
    "\n",
    "#new_spam_dataset = pd.DataFrame({\n",
    "#    'Lottery':[7,3,9,1,2,4,6,1,3,6,7,8,9,3],\n",
    "#    'Sale':[1,2,3,3,6,7,8,9,10,5,8,4,6,4],\n",
    "#    'Spam': [0,0,0,0,0,0,0,1,1,1,1,1,1,1]}) #'no','no','no','no','no','no','yes','yes','yes','yes','yes','yes'\n",
    "\n",
    "new_spam_dataset\n",
    "\n",
    "#new_spam_dataset = pd.DataFrame({\n",
    "#    'Lottery':[7,3,9,1,2,4,8,1,3,6,7,8,9,2],\n",
    "#    'Sale':[1,2,3,3,6,7,6,9,10,5,8,4,6,2],\n",
    "#    'Spam': ['no','no','no','no','no','no','no','yes','yes','yes','yes','yes','yes','yes']})\n",
    "#new_spam_dataset"
   ]
  },
  {
   "cell_type": "code",
   "execution_count": null,
   "metadata": {},
   "outputs": [],
   "source": [
    "new_X = new_spam_dataset[['Lottery', 'Sale']]\n",
    "new_y = new_spam_dataset['Spam']\n",
    "plot_points(new_X, new_y)"
   ]
  },
  {
   "cell_type": "code",
   "execution_count": null,
   "metadata": {},
   "outputs": [],
   "source": [
    "new_spam_decision_tree = DecisionTreeClassifier(random_state=0)\n",
    "new_spam_decision_tree.fit(new_X,new_y)\n",
    "new_spam_decision_tree.score(new_X,new_y)"
   ]
  },
  {
   "cell_type": "code",
   "execution_count": null,
   "metadata": {},
   "outputs": [],
   "source": [
    "from sklearn import tree\n",
    "tree.plot_tree(new_spam_decision_tree)"
   ]
  },
  {
   "cell_type": "code",
   "execution_count": null,
   "metadata": {},
   "outputs": [],
   "source": [
    "dot_data = StringIO()\n",
    "export_graphviz(new_spam_decision_tree, out_file=dot_data,  \n",
    "                filled=True, rounded=True,\n",
    "                special_characters=True)\n",
    "graph = pydotplus.graph_from_dot_data(dot_data.getvalue())  \n",
    "Image(graph.create_png())"
   ]
  },
  {
   "cell_type": "code",
   "execution_count": null,
   "metadata": {},
   "outputs": [],
   "source": [
    "plot_model(new_X, new_y, new_spam_decision_tree)"
   ]
  },
  {
   "cell_type": "markdown",
   "metadata": {},
   "source": [
    "# Random Forests"
   ]
  },
  {
   "cell_type": "code",
   "execution_count": null,
   "metadata": {},
   "outputs": [],
   "source": [
    "first_batch = new_spam_dataset.loc[[0,1,2,7,8,9]]\n",
    "X1 = first_batch[['Lottery', 'Sale']]\n",
    "y1 = first_batch['Spam']\n",
    "plot_points(X1, y1)\n",
    "plt.show()\n",
    "\n",
    "second_batch = new_spam_dataset.loc[[3,4,10,11]]\n",
    "X2 = second_batch[['Lottery', 'Sale']]\n",
    "y2 = second_batch['Spam']\n",
    "plot_points(X2, y2)\n",
    "plt.show()\n",
    "\n",
    "third_batch = new_spam_dataset.loc[[5,6,12,13]]\n",
    "X3 = third_batch[['Lottery', 'Sale']]\n",
    "y3 = third_batch['Spam']\n",
    "plot_points(X3, y3)"
   ]
  },
  {
   "cell_type": "code",
   "execution_count": null,
   "metadata": {},
   "outputs": [],
   "source": [
    "dt1 = DecisionTreeClassifier(random_state=0)\n",
    "dt1.fit(X1,y1)\n",
    "print(dt1.score(X1,y1))\n",
    "\n",
    "dt2 = DecisionTreeClassifier(random_state=0)\n",
    "dt2.fit(X2,y2)\n",
    "print(dt2.score(X2,y2))\n",
    "\n",
    "dt3 = DecisionTreeClassifier(random_state=0)\n",
    "dt3.fit(X3,y3)\n",
    "print(dt3.score(X3,y3))\n",
    "\n",
    "plot_model(X1, y1, dt1)\n",
    "plt.show()\n",
    "plot_model(X2, y2, dt2)\n",
    "plt.show()\n",
    "plot_model(X3, y3, dt3)"
   ]
  },
  {
   "cell_type": "code",
   "execution_count": null,
   "metadata": {},
   "outputs": [],
   "source": [
    "from sklearn.ensemble import RandomForestClassifier\n",
    "random_forest_model = RandomForestClassifier(random_state=0, n_estimators=5)\n",
    "random_forest_model.fit(new_X,new_y)\n",
    "random_forest_model.score(new_X,new_y)"
   ]
  },
  {
   "cell_type": "code",
   "execution_count": null,
   "metadata": {},
   "outputs": [],
   "source": [
    "tree.plot_tree(dt1)\n",
    "plt.show()\n",
    "tree.plot_tree(dt2)\n",
    "plt.show()\n",
    "tree.plot_tree(dt3)"
   ]
  },
  {
   "cell_type": "code",
   "execution_count": null,
   "metadata": {},
   "outputs": [],
   "source": [
    "plot_model(new_X, new_y, random_forest_model)"
   ]
  },
  {
   "cell_type": "code",
   "execution_count": null,
   "metadata": {},
   "outputs": [],
   "source": [
    "for dt in random_forest_model.estimators_:\n",
    "    tree.plot_tree(dt)\n",
    "    plt.show()"
   ]
  },
  {
   "cell_type": "code",
   "execution_count": null,
   "metadata": {},
   "outputs": [],
   "source": [
    "for dt in random_forest_model.estimators_:\n",
    "    plot_model(new_X, new_y, dt)\n",
    "    plt.show()"
   ]
  },
  {
   "cell_type": "markdown",
   "metadata": {},
   "source": [
    "# AdaBoost"
   ]
  },
  {
   "cell_type": "code",
   "execution_count": null,
   "metadata": {},
   "outputs": [],
   "source": [
    "from sklearn.ensemble import AdaBoostClassifier\n",
    "adaboost_model = AdaBoostClassifier(random_state=0, n_estimators=6)\n",
    "adaboost_model.fit(new_X, new_y)\n",
    "adaboost_model.score(new_X, new_y)"
   ]
  },
  {
   "cell_type": "code",
   "execution_count": null,
   "metadata": {},
   "outputs": [],
   "source": [
    "plot_model(new_X, new_y, adaboost_model)"
   ]
  },
  {
   "cell_type": "code",
   "execution_count": null,
   "metadata": {},
   "outputs": [],
   "source": [
    "estimators = adaboost_model.estimators_\n",
    "for estimator in estimators:\n",
    "    plot_model(new_X, new_y, estimator)\n",
    "    plt.show()"
   ]
  },
  {
   "cell_type": "code",
   "execution_count": null,
   "metadata": {},
   "outputs": [],
   "source": [
    "adaboost_model.estimator_weights_"
   ]
  },
  {
   "cell_type": "markdown",
   "metadata": {},
   "source": [
    "# Gradient boosting"
   ]
  },
  {
   "cell_type": "code",
   "execution_count": null,
   "metadata": {},
   "outputs": [],
   "source": [
    "from sklearn.ensemble import GradientBoostingClassifier\n",
    "gradient_boosting_model = GradientBoostingClassifier(random_state=0, n_estimators=5)\n",
    "gradient_boosting_model.fit(new_X, new_y)\n",
    "gradient_boosting_model.score(new_X, new_y)"
   ]
  },
  {
   "cell_type": "code",
   "execution_count": null,
   "metadata": {},
   "outputs": [],
   "source": [
    "plot_model(new_X, new_y, gradient_boosting_model)"
   ]
  },
  {
   "cell_type": "code",
   "execution_count": null,
   "metadata": {},
   "outputs": [],
   "source": [
    "estimators = gradient_boosting_model.estimators_\n",
    "for i in range(len(estimators)):\n",
    "    tree.plot_tree(estimators[i][0])\n",
    "#    plot_model(new_X, new_y, estimators[i][0])"
   ]
  },
  {
   "cell_type": "code",
   "execution_count": null,
   "metadata": {},
   "outputs": [],
   "source": [
    "from sklearn import tree\n",
    "tree.plot_tree(spam_decision_tree)"
   ]
  },
  {
   "cell_type": "code",
   "execution_count": null,
   "metadata": {},
   "outputs": [],
   "source": [
    "def draw_line(slope, y_intercept, color='grey', linewidth=0.7, starting=0,ending=4):     #G\n",
    "    x = np.linspace(0, 8, 1000)\n",
    "    plt.plot(x, y_intercept + slope*x, linestyle='-', color=color, linewidth=linewidth)"
   ]
  },
  {
   "cell_type": "code",
   "execution_count": null,
   "metadata": {},
   "outputs": [],
   "source": []
  },
  {
   "cell_type": "code",
   "execution_count": null,
   "metadata": {},
   "outputs": [],
   "source": []
  },
  {
   "cell_type": "code",
   "execution_count": null,
   "metadata": {},
   "outputs": [],
   "source": []
  }
 ],
 "metadata": {
  "kernelspec": {
   "display_name": "Python 3",
   "language": "python",
   "name": "python3"
  },
  "language_info": {
   "codemirror_mode": {
    "name": "ipython",
    "version": 3
   },
   "file_extension": ".py",
   "mimetype": "text/x-python",
   "name": "python",
   "nbconvert_exporter": "python",
   "pygments_lexer": "ipython3",
   "version": "3.7.3"
  }
 },
 "nbformat": 4,
 "nbformat_minor": 2
}
